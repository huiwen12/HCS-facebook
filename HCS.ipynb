{
 "cells": [
  {
   "cell_type": "code",
   "execution_count": null,
   "id": "5e1840ab",
   "metadata": {},
   "outputs": [],
   "source": [
    "import json\n",
    "import os\n",
    "from pathlib import Path\n",
    "\n",
    "import numpy as np\n",
    "import pandas as pd\n",
    "import matplotlib.pyplot as plt\n",
    "import seaborn as sns"
   ]
  },
  {
   "cell_type": "code",
   "execution_count": null,
   "id": "160ace2c",
   "metadata": {},
   "outputs": [],
   "source": [
    "import altair as alt\n",
    "from altair import datum, expr\n",
    "\n",
    "alt.data_transformers.disable_max_rows()"
   ]
  },
  {
   "cell_type": "code",
   "execution_count": null,
   "id": "47d11e25",
   "metadata": {},
   "outputs": [],
   "source": [
    "def build_dataframe(path='messages'):\n",
    "    rows_list = []\n",
    "    for filename in Path(path).glob('inbox/*/message_*.json'):\n",
    "        chat = filename.parent.name\n",
    "        with open(filename, 'r') as f:\n",
    "            obj = json.load(f)\n",
    "        for entry in obj['messages']:\n",
    "            if entry['type'] == 'Generic' and entry.get('content') is not None:\n",
    "                rows_list.append({\n",
    "                    'chat': chat,\n",
    "                    'sender': entry['sender_name'],\n",
    "                    'time': pd.to_datetime(entry['timestamp_ms'], unit='ms'),\n",
    "                    'content': entry['content'],\n",
    "                })\n",
    "    return pd.DataFrame(rows_list)\n",
    "\n",
    "df = build_dataframe()"
   ]
  },
  {
   "cell_type": "code",
   "execution_count": null,
   "id": "c27b8a7d",
   "metadata": {},
   "outputs": [],
   "source": [
    "df"
   ]
  },
  {
   "cell_type": "code",
   "execution_count": null,
   "id": "d0d0b82b",
   "metadata": {},
   "outputs": [],
   "source": [
    "df.chat.value_counts()"
   ]
  },
  {
   "cell_type": "code",
   "execution_count": null,
   "id": "46a76761",
   "metadata": {},
   "outputs": [],
   "source": [
    "alt.Chart(df).mark_line().encode(\n",
    "    x='yearmonth(time):T',\n",
    "    y='count()',\n",
    ")"
   ]
  },
  {
   "cell_type": "code",
   "execution_count": null,
   "id": "b2692e3a",
   "metadata": {},
   "outputs": [],
   "source": [
    "alt.Chart(df).mark_bar().encode(\n",
    "    x='yearmonth(time):T',\n",
    "    y='count()',\n",
    "    color='chat:N',\n",
    "    tooltip=['chat', 'count()'],\n",
    ").properties(\n",
    "    title='Number of Facebook Messages',\n",
    ")"
   ]
  },
  {
   "cell_type": "code",
   "execution_count": null,
   "id": "cacf79f7",
   "metadata": {},
   "outputs": [],
   "source": [
    "chat_id = 'hogdinstagrampromo_nn=eizkwpq'\n",
    "\n",
    "\n",
    "alt.Chart(df.query(f'chat == \"{chat_id}\"')).mark_bar().encode(\n",
    "    color='sender:N',\n",
    "    x='yearmonth(time):T',\n",
    "    y='count()',\n",
    "    tooltip=['sender', 'count()'],\n",
    ").properties(\n",
    "    title='Facebook Messages in Group Chat',\n",
    ")"
   ]
  },
  {
   "cell_type": "code",
   "execution_count": null,
   "id": "9ef15d95",
   "metadata": {},
   "outputs": [],
   "source": [
    "alt.Chart(df).mark_bar().encode(\n",
    "    alt.X('count()', stack='normalize', title='frequency'),\n",
    "    alt.Y('chat'),\n",
    "    alt.Color('sender'),\n",
    "    tooltip=['sender', alt.Tooltip('count()', title='messages')],\n",
    ").properties(\n",
    "    title='Who Dominates the Conversation?',\n",
    ")"
   ]
  },
  {
   "cell_type": "code",
   "execution_count": null,
   "id": "f7c29ef8",
   "metadata": {},
   "outputs": [],
   "source": [
    "sender = 'Huiwen Chen'\n",
    "\n",
    "alt.Chart(df).mark_rect().encode(\n",
    "    alt.X('date(time):O', title='day'),\n",
    "    alt.Y('yearmonth(time):O', title='month'),\n",
    "    alt.Color('count()', scale=alt.Scale(type='linear')),\n",
    "    tooltip=[\n",
    "        alt.Tooltip('count()', title='Messages'),\n",
    "        alt.Tooltip('sum(words):Q', title='Words'),\n",
    "    ],\n",
    ").transform_filter(\n",
    "    datum.sender == sender,\n",
    ").transform_calculate(\n",
    "    words=expr.length(expr.split(datum.content, ' ')),\n",
    ").properties(\n",
    "    title='Number of Messages Sent by Day',\n",
    ")"
   ]
  },
  {
   "cell_type": "code",
   "execution_count": null,
   "id": "e7dbb542",
   "metadata": {},
   "outputs": [],
   "source": [
    "#sorted bar graph \n",
    "\n",
    "alt.Chart(df).mark_bar().encode(\n",
    "    x='count()',\n",
    "    y=alt.Y('yearmonth(time):T', sort='-x')\n",
    ").properties(\n",
    "    title='Message Count Sorted From Greatest to Least',\n",
    ")"
   ]
  },
  {
   "cell_type": "code",
   "execution_count": null,
   "id": "d251e215",
   "metadata": {},
   "outputs": [],
   "source": [
    "#scatter plot\n",
    "alt.Chart(df).mark_circle(size=80).encode(\n",
    "    alt.X('date(time):O', title='day'),\n",
    "    alt.Y('yearmonth(time):O', title='month'),\n",
    "    tooltip=[\n",
    "        alt.Tooltip('count()', title='Messages'),\n",
    "        alt.Tooltip('sum(words):Q', title='Words'),\n",
    "    ],\n",
    ").transform_filter(\n",
    "    datum.sender == sender,\n",
    ").transform_calculate(\n",
    "    words=expr.length(expr.split(datum.content, ' ')),\n",
    ").interactive()"
   ]
  }
 ],
 "metadata": {
  "kernelspec": {
   "display_name": "Python 3",
   "language": "python",
   "name": "python3"
  },
  "language_info": {
   "codemirror_mode": {
    "name": "ipython",
    "version": 3
   },
   "file_extension": ".py",
   "mimetype": "text/x-python",
   "name": "python",
   "nbconvert_exporter": "python",
   "pygments_lexer": "ipython3",
   "version": "3.8.8"
  }
 },
 "nbformat": 4,
 "nbformat_minor": 5
}
